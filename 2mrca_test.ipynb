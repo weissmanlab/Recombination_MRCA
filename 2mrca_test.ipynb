{
 "cells": [
  {
   "cell_type": "markdown",
   "id": "22abe39c-61c8-4df4-8423-7e400d9ea0dd",
   "metadata": {},
   "source": [
    "# generate a simulation"
   ]
  },
  {
   "cell_type": "code",
   "execution_count": 3,
   "id": "f25aa1f4-a6ac-46d1-a3da-2a7af9c1401e",
   "metadata": {},
   "outputs": [],
   "source": [
    "import msprime\n",
    "from IPython.display import SVG, display\n",
    "import matplotlib.pyplot as plt"
   ]
  },
  {
   "cell_type": "code",
   "execution_count": 4,
   "id": "c2926e26-b51b-4d9a-aeb5-7d50f44a108f",
   "metadata": {},
   "outputs": [],
   "source": [
    "# samples\n",
    "n_samples=1"
   ]
  },
  {
   "cell_type": "code",
   "execution_count": 5,
   "id": "a61cd05b-5aef-40fa-830a-bffe99f61549",
   "metadata": {},
   "outputs": [],
   "source": [
    "# Simulate an ancestral history for 3 diploid samples under the coalescent\n",
    "# with recombination on a 5kb region with human-like parameters.\n",
    "ts = msprime.sim_ancestry(\n",
    "    samples=n_samples,\n",
    "    recombination_rate=1e-8,\n",
    "    sequence_length=5000,\n",
    "    population_size=10000,\n",
    "    record_full_arg=True,\n",
    "    random_seed = 1234)"
   ]
  },
  {
   "cell_type": "markdown",
   "id": "14cd2155-b126-46f0-8807-dbb6b825301c",
   "metadata": {
    "tags": []
   },
   "source": [
    "# print the tree sequence and tables\n",
    "# try the methods and attributes"
   ]
  },
  {
   "cell_type": "code",
   "execution_count": 22,
   "id": "8c0822d0-ecd1-4d73-a2dd-335a990d48ce",
   "metadata": {},
   "outputs": [
    {
     "name": "stdout",
     "output_type": "stream",
     "text": [
      "60347.87┊     ┊     ┊  8  ┊  \n",
      "        ┊     ┊     ┊ ┏┻┓ ┊  \n",
      "26582.26┊     ┊  7  ┊ 7 ┃ ┊  \n",
      "        ┊     ┊ ┏┻┓ ┊ ┃ ┃ ┊  \n",
      "25493.81┊     ┊ ┃ 5 ┊ ┃ 6 ┊  \n",
      "        ┊     ┊ ┃ ┃ ┊ ┃ ┃ ┊  \n",
      "5964.87 ┊  4  ┊ ┃ 4 ┊ ┃ 4 ┊  \n",
      "        ┊ ┏┻┓ ┊ ┃ ┃ ┊ ┃ ┃ ┊  \n",
      "2126.41 ┊ 2 ┃ ┊ 3 ┃ ┊ 3 ┃ ┊  \n",
      "        ┊ ┃ ┃ ┊ ┃ ┃ ┊ ┃ ┃ ┊  \n",
      "0.00    ┊ 0 1 ┊ 0 1 ┊ 0 1 ┊  \n",
      "        0   1221  3947  5000 \n",
      "\n"
     ]
    }
   ],
   "source": [
    "# SVG(ts.draw_svg(y_axis=True))\n",
    "print(ts.draw_text())"
   ]
  },
  {
   "cell_type": "code",
   "execution_count": 23,
   "id": "526d1b3f-5021-42b5-82b1-2339ab2435b7",
   "metadata": {},
   "outputs": [
    {
     "name": "stdout",
     "output_type": "stream",
     "text": [
      "╔══╤═════╤════════╤═══════╤════════╗\n",
      "║id│flags│location│parents│metadata║\n",
      "╠══╪═════╪════════╪═══════╪════════╣\n",
      "║0 │    0│        │       │     b''║\n",
      "╚══╧═════╧════════╧═══════╧════════╝\n",
      "\n",
      "╔══╤══════╤══════════╤══════════╤══════════════╤════════╗\n",
      "║id│flags │population│individual│time          │metadata║\n",
      "╠══╪══════╪══════════╪══════════╪══════════════╪════════╣\n",
      "║0 │     1│         0│         0│    0.00000000│     b''║\n",
      "║1 │     1│         0│         0│    0.00000000│     b''║\n",
      "║2 │131072│         0│        -1│ 2126.41185589│     b''║\n",
      "║3 │131072│         0│        -1│ 2126.41185589│     b''║\n",
      "║4 │     0│         0│        -1│ 5964.87247649│     b''║\n",
      "║5 │131072│         0│        -1│25493.80590650│     b''║\n",
      "║6 │131072│         0│        -1│25493.80590650│     b''║\n",
      "║7 │     0│         0│        -1│26582.26311823│     b''║\n",
      "║8 │     0│         0│        -1│60347.87443298│     b''║\n",
      "╚══╧══════╧══════════╧══════════╧══════════════╧════════╝\n",
      "\n"
     ]
    }
   ],
   "source": [
    "print(ts.tables.individuals)\n",
    "print(ts.tables.nodes)"
   ]
  },
  {
   "cell_type": "code",
   "execution_count": 24,
   "id": "be3b5edc-edc2-4700-b772-51aefa5b04db",
   "metadata": {
    "tags": []
   },
   "outputs": [
    {
     "name": "stdout",
     "output_type": "stream",
     "text": [
      "NodeTableRow(flags=1, time=0.0, population=0, individual=0, metadata=b'')\n",
      "0.0\n",
      "NodeTableRow(flags=1, time=0.0, population=0, individual=0, metadata=b'')\n",
      "0.0\n",
      "NodeTableRow(flags=131072, time=2126.411855891431, population=0, individual=-1, metadata=b'')\n",
      "2126.411855891431\n",
      "NodeTableRow(flags=131072, time=2126.411855891431, population=0, individual=-1, metadata=b'')\n",
      "2126.411855891431\n",
      "NodeTableRow(flags=0, time=5964.872476486988, population=0, individual=-1, metadata=b'')\n",
      "5964.872476486988\n",
      "NodeTableRow(flags=131072, time=25493.80590649797, population=0, individual=-1, metadata=b'')\n",
      "25493.80590649797\n",
      "NodeTableRow(flags=131072, time=25493.80590649797, population=0, individual=-1, metadata=b'')\n",
      "25493.80590649797\n",
      "NodeTableRow(flags=0, time=26582.26311823176, population=0, individual=-1, metadata=b'')\n",
      "26582.26311823176\n",
      "NodeTableRow(flags=0, time=60347.87443298484, population=0, individual=-1, metadata=b'')\n",
      "60347.87443298484\n"
     ]
    }
   ],
   "source": [
    "for idx in range(9):\n",
    "    print(ts.tables.nodes[idx])\n",
    "    print(ts.tables.nodes[idx].time)"
   ]
  },
  {
   "cell_type": "code",
   "execution_count": 25,
   "id": "12881cd0-cd55-4b3c-abf0-36d6f9154a3b",
   "metadata": {},
   "outputs": [
    {
     "name": "stdout",
     "output_type": "stream",
     "text": [
      "60347.87┊     ┊     ┊  8  ┊  \n",
      "        ┊     ┊     ┊ ┏┻┓ ┊  \n",
      "26582.26┊     ┊  7  ┊ 7 ┃ ┊  \n",
      "        ┊     ┊ ┏┻┓ ┊ ┃ ┃ ┊  \n",
      "25493.81┊     ┊ ┃ 5 ┊ ┃ 6 ┊  \n",
      "        ┊     ┊ ┃ ┃ ┊ ┃ ┃ ┊  \n",
      "5964.87 ┊  4  ┊ ┃ 4 ┊ ┃ 4 ┊  \n",
      "        ┊ ┏┻┓ ┊ ┃ ┃ ┊ ┃ ┃ ┊  \n",
      "2126.41 ┊ 2 ┃ ┊ 3 ┃ ┊ 3 ┃ ┊  \n",
      "        ┊ ┃ ┃ ┊ ┃ ┃ ┊ ┃ ┃ ┊  \n",
      "0.00    ┊ 0 1 ┊ 0 1 ┊ 0 1 ┊  \n",
      "        0   1221  3947  5000 \n",
      "\n"
     ]
    }
   ],
   "source": [
    "table = ts.draw_text()\n",
    "print(table)"
   ]
  },
  {
   "cell_type": "code",
   "execution_count": 26,
   "id": "6d3d7a73-2442-4677-9d12-c47d04311ce0",
   "metadata": {},
   "outputs": [
    {
     "name": "stdout",
     "output_type": "stream",
     "text": [
      "╔═════════════════════════════════╗\n",
      "║Tree                             ║\n",
      "╠═══════════════════╤═════════════╣\n",
      "║Index              │            0║\n",
      "╟───────────────────┼─────────────╢\n",
      "║Interval           │0-1221 (1221)║\n",
      "╟───────────────────┼─────────────╢\n",
      "║Roots              │            1║\n",
      "╟───────────────────┼─────────────╢\n",
      "║Nodes              │            9║\n",
      "╟───────────────────┼─────────────╢\n",
      "║Sites              │            0║\n",
      "╟───────────────────┼─────────────╢\n",
      "║Mutations          │            0║\n",
      "╟───────────────────┼─────────────╢\n",
      "║Total Branch Length│    11929.745║\n",
      "╚═══════════════════╧═════════════╝\n",
      " 4\n",
      "╔════════════════════════════════════╗\n",
      "║Tree                                ║\n",
      "╠═══════════════════╤════════════════╣\n",
      "║Index              │               1║\n",
      "╟───────────────────┼────────────────╢\n",
      "║Interval           │1221-3947 (2726)║\n",
      "╟───────────────────┼────────────────╢\n",
      "║Roots              │               1║\n",
      "╟───────────────────┼────────────────╢\n",
      "║Nodes              │               9║\n",
      "╟───────────────────┼────────────────╢\n",
      "║Sites              │               0║\n",
      "╟───────────────────┼────────────────╢\n",
      "║Mutations          │               0║\n",
      "╟───────────────────┼────────────────╢\n",
      "║Total Branch Length│       53164.526║\n",
      "╚═══════════════════╧════════════════╝\n",
      " 7\n",
      "╔════════════════════════════════════╗\n",
      "║Tree                                ║\n",
      "╠═══════════════════╤════════════════╣\n",
      "║Index              │               2║\n",
      "╟───────────────────┼────────────────╢\n",
      "║Interval           │3947-5000 (1053)║\n",
      "╟───────────────────┼────────────────╢\n",
      "║Roots              │               1║\n",
      "╟───────────────────┼────────────────╢\n",
      "║Nodes              │               9║\n",
      "╟───────────────────┼────────────────╢\n",
      "║Sites              │               0║\n",
      "╟───────────────────┼────────────────╢\n",
      "║Mutations          │               0║\n",
      "╟───────────────────┼────────────────╢\n",
      "║Total Branch Length│       120695.75║\n",
      "╚═══════════════════╧════════════════╝\n",
      " 8\n"
     ]
    }
   ],
   "source": [
    "for tree in ts.trees():\n",
    "    print(tree,tree.root)"
   ]
  },
  {
   "cell_type": "markdown",
   "id": "55baa954-8f05-42a4-963d-574398f5eb13",
   "metadata": {},
   "source": [
    "# get the time from the printed tree sequence"
   ]
  },
  {
   "cell_type": "code",
   "execution_count": 27,
   "id": "36f45d42-dc55-4e38-8cdb-1e8fe1e66bed",
   "metadata": {},
   "outputs": [
    {
     "name": "stdout",
     "output_type": "stream",
     "text": [
      "\n",
      " 0005  7493  1221   0        \n",
      "  ┊ 1 0 ┊ 1 0 ┊ 1 0 ┊    00.0\n",
      "  ┊ ┃ ┃ ┊ ┃ ┃ ┊ ┃ ┃ ┊        \n",
      "  ┊ ┃ 3 ┊ ┃ 3 ┊ ┃ 2 ┊ 14.6212\n",
      "  ┊ ┃ ┃ ┊ ┃ ┃ ┊ ┓┻┏ ┊        \n",
      "  ┊ 4 ┃ ┊ 4 ┃ ┊  4  ┊ 78.4695\n",
      "  ┊ ┃ ┃ ┊ ┃ ┃ ┊     ┊        \n",
      "  ┊ 6 ┃ ┊ 5 ┃ ┊     ┊18.39452\n",
      "  ┊ ┃ ┃ ┊ ┓┻┏ ┊     ┊        \n",
      "  ┊ ┃ 7 ┊  7  ┊     ┊62.28562\n",
      "  ┊ ┓┻┏ ┊     ┊     ┊        \n",
      "  ┊  8  ┊     ┊     ┊78.74306\n"
     ]
    }
   ],
   "source": [
    "tree_s_reversed = ts.draw_text()[::-1]\n",
    "print(tree_s_reversed)"
   ]
  },
  {
   "cell_type": "code",
   "execution_count": 28,
   "id": "8e524300-8779-48a4-ba9d-dd38c04908eb",
   "metadata": {},
   "outputs": [],
   "source": [
    "def t_mrca_text(tree_s_printed):\n",
    "    # reverse table\n",
    "    tree_s_printed_reversed = tree_s_printed[::-1]\n",
    "    # number of symbols per line\n",
    "    n_char_per_line = len(tree_s_printed_reversed)//tree_s_printed_reversed.count(\"\\n\")\n",
    "    # index of the first blank,\n",
    "    # the blank's length may vary,\n",
    "    # and a single tree doesn't have a blank\n",
    "    idx_first_blank = len(tree_s_printed_reversed)\n",
    "    for idx in range(4*n_samples+1,6*n_samples+1):\n",
    "        if tree_s_printed_reversed.count(\"┊\"+idx*\" \"+\"┊\")!=0:\n",
    "            if tree_s_printed_reversed.index(\"┊\"+idx*\" \"+\"┊\")<idx_first_blank:\n",
    "                idx_first_blank = tree_s_printed_reversed.index(\"┊\"+idx*\" \"+\"┊\")\n",
    "    # the time before the blank \n",
    "    n_line_bef_fst_blk = idx_first_blank//n_char_per_line-1\n",
    "    n_char_bef_time = tree_s_printed_reversed.index(\" 0 \")+2\n",
    "    time_coa_rev = tree_s_printed_reversed[n_char_per_line*n_line_bef_fst_blk+n_char_bef_time:n_char_per_line*(n_line_bef_fst_blk+1)]\n",
    "    time_coa = float(time_coa_rev[::-1])\n",
    "    return(time_coa)"
   ]
  },
  {
   "cell_type": "code",
   "execution_count": 29,
   "id": "c0379c74-7497-43e5-ada0-b21009604db7",
   "metadata": {},
   "outputs": [
    {
     "data": {
      "text/plain": [
       "5964.87"
      ]
     },
     "execution_count": 29,
     "metadata": {},
     "output_type": "execute_result"
    }
   ],
   "source": [
    "t_mrca_text(table)"
   ]
  },
  {
   "cell_type": "markdown",
   "id": "a711c1ef-62af-4658-9178-8864c48252c2",
   "metadata": {},
   "source": [
    "# there isn't a min_root_time attribute,\n",
    "# and the equivalent of max_root_time can't be generalized"
   ]
  },
  {
   "cell_type": "code",
   "execution_count": 30,
   "id": "92b67169-c55c-4ed0-bda3-afb2f61260e1",
   "metadata": {},
   "outputs": [
    {
     "name": "stdout",
     "output_type": "stream",
     "text": [
      "0.0\n"
     ]
    }
   ],
   "source": [
    "import numpy as np\n",
    "print(np.min(ts.tables.nodes.time))"
   ]
  },
  {
   "cell_type": "markdown",
   "id": "e977d261-537b-47ce-8394-9e383a49ced4",
   "metadata": {},
   "source": [
    "# get the time using APIs"
   ]
  },
  {
   "cell_type": "code",
   "execution_count": 31,
   "id": "ea8cacc9-1614-43e5-86b7-89073578c88f",
   "metadata": {},
   "outputs": [
    {
     "name": "stdout",
     "output_type": "stream",
     "text": [
      "5964.872476486988\n"
     ]
    }
   ],
   "source": [
    "def t_mrca_api(tree_s):\n",
    "    t_ca_list = []\n",
    "    for tree in tree_s.trees():\n",
    "        t_ca_list.append(tree_s.tables.nodes[tree.root].time)\n",
    "    return(min(t_ca_list))\n",
    "print(t_mrca_api(ts))"
   ]
  },
  {
   "cell_type": "markdown",
   "id": "c9661d26-8e74-4202-9090-db450c495118",
   "metadata": {},
   "source": [
    "# test if the time is correct"
   ]
  },
  {
   "cell_type": "code",
   "execution_count": 32,
   "id": "a91451d2-a6ab-4552-99f0-8bf2425cc8e3",
   "metadata": {},
   "outputs": [
    {
     "name": "stdout",
     "output_type": "stream",
     "text": [
      "24351.17┊      ┊  17  ┊     ┊  17  ┊  17  ┊      ┊  \n",
      "        ┊      ┊ ┏━┻┓ ┊     ┊ ┏━┻┓ ┊ ┏━┻┓ ┊      ┊  \n",
      "22238.83┊      ┊ ┃ 16 ┊     ┊ ┃ 16 ┊ ┃ 16 ┊  16  ┊  \n",
      "        ┊      ┊ ┃  ┃ ┊     ┊ ┃  ┃ ┊ ┃  ┃ ┊ ┏━┻┓ ┊  \n",
      "10888.05┊  15  ┊ ┃ 15 ┊     ┊ ┃ 15 ┊ ┃ 15 ┊ ┃ 15 ┊  \n",
      "        ┊ ┏━┻┓ ┊ ┃  ┃ ┊     ┊ ┃  ┃ ┊ ┃  ┃ ┊ ┃  ┃ ┊  \n",
      "7927.02 ┊ ┃  ┃ ┊ 13 ┃ ┊     ┊ 13 ┃ ┊ 13 ┃ ┊ 14 ┃ ┊  \n",
      "        ┊ ┃  ┃ ┊ ┃  ┃ ┊     ┊ ┃  ┃ ┊ ┃  ┃ ┊ ┃  ┃ ┊  \n",
      "4619.79 ┊ 12 ┃ ┊ ┃  ┃ ┊     ┊ ┃ 12 ┊ ┃ 12 ┊ ┃ 12 ┊  \n",
      "        ┊ ┃  ┃ ┊ ┃  ┃ ┊     ┊ ┃  ┃ ┊ ┃  ┃ ┊ ┃  ┃ ┊  \n",
      "4218.12 ┊ ┃  ┃ ┊ 11 ┃ ┊ 11  ┊ 11 ┃ ┊ 11 ┃ ┊ 11 ┃ ┊  \n",
      "        ┊ ┃  ┃ ┊ ┃  ┃ ┊ ┏┻┓ ┊ ┃  ┃ ┊ ┃  ┃ ┊ ┃  ┃ ┊  \n",
      "4119.11 ┊ ┃  9 ┊ ┃  9 ┊ ┃10 ┊ ┃  ┃ ┊ ┃  ┃ ┊ ┃  ┃ ┊  \n",
      "        ┊ ┃  ┃ ┊ ┃  ┃ ┊ ┃ ┃ ┊ ┃  ┃ ┊ ┃  ┃ ┊ ┃  ┃ ┊  \n",
      "3358.51 ┊ 7  ┃ ┊ 8  ┃ ┊ 8 ┃ ┊ 8  ┃ ┊ 8  ┃ ┊ 8  ┃ ┊  \n",
      "        ┊ ┃  ┃ ┊ ┃  ┃ ┊ ┃ ┃ ┊ ┃  ┃ ┊ ┃  ┃ ┊ ┃  ┃ ┊  \n",
      "2638.16 ┊ ┃  ┃ ┊ ┃  ┃ ┊ ┃ ┃ ┊ ┃  6 ┊ ┃  6 ┊ ┃  6 ┊  \n",
      "        ┊ ┃  ┃ ┊ ┃  ┃ ┊ ┃ ┃ ┊ ┃  ┃ ┊ ┃  ┃ ┊ ┃  ┃ ┊  \n",
      "2114.94 ┊ ┃  4 ┊ ┃  4 ┊ ┃ 4 ┊ ┃  5 ┊ ┃  ┃ ┊ ┃  ┃ ┊  \n",
      "        ┊ ┃  ┃ ┊ ┃  ┃ ┊ ┃ ┃ ┊ ┃  ┃ ┊ ┃  ┃ ┊ ┃  ┃ ┊  \n",
      "1349.22 ┊ ┃  2 ┊ ┃  2 ┊ ┃ 2 ┊ ┃  2 ┊ ┃  3 ┊ ┃  3 ┊  \n",
      "        ┊ ┃  ┃ ┊ ┃  ┃ ┊ ┃ ┃ ┊ ┃  ┃ ┊ ┃  ┃ ┊ ┃  ┃ ┊  \n",
      "0.00    ┊ 0  1 ┊ 0  1 ┊ 0 1 ┊ 0  1 ┊ 0  1 ┊ 0  1 ┊  \n",
      "        0     29     114  2193   2339   4563   5000 \n",
      "\n",
      "4218.12\n",
      "4218.122972762248\n"
     ]
    }
   ],
   "source": [
    "test_ts = msprime.sim_ancestry(\n",
    "    samples=n_samples,\n",
    "    recombination_rate=1e-8,\n",
    "    sequence_length=5000,\n",
    "    population_size=10000,\n",
    "    record_full_arg=True)\n",
    "print(test_ts.draw_text())\n",
    "print(t_mrca_text(test_ts.draw_text()))\n",
    "print(t_mrca_api(test_ts))"
   ]
  },
  {
   "cell_type": "markdown",
   "id": "58271f3a-dc3e-4925-96fe-eea949e075b0",
   "metadata": {},
   "source": [
    "# test if the simulation is right"
   ]
  },
  {
   "cell_type": "code",
   "execution_count": 6,
   "id": "70b2f7f0-16b7-41ca-a719-42f1ed2e685e",
   "metadata": {},
   "outputs": [
    {
     "name": "stdout",
     "output_type": "stream",
     "text": [
      "20716.68┊  8  ┊     ┊     ┊  \n",
      "        ┊ ┏┻┓ ┊     ┊     ┊  \n",
      "16032.41┊ 7 ┃ ┊  7  ┊  7  ┊  \n",
      "        ┊ ┃ ┃ ┊ ┏┻┓ ┊ ┏┻┓ ┊  \n",
      "8250.71 ┊ ┃ 5 ┊ ┃ 6 ┊ ┃ 6 ┊  \n",
      "        ┊ ┃ ┃ ┊ ┃ ┃ ┊ ┃ ┃ ┊  \n",
      "6912.55 ┊ ┃ 4 ┊ ┃ 4 ┊ ┃ 4 ┊  \n",
      "        ┊ ┃ ┃ ┊ ┃ ┃ ┊ ┃ ┃ ┊  \n",
      "4950.19 ┊ ┃ 2 ┊ ┃ 2 ┊ ┃ 3 ┊  \n",
      "        ┊ ┃ ┃ ┊ ┃ ┃ ┊ ┃ ┃ ┊  \n",
      "0.00    ┊ 0 1 ┊ 0 1 ┊ 0 1 ┊  \n",
      "        0    343  4894  5000 \n",
      "\n"
     ]
    }
   ],
   "source": [
    "print(msprime.sim_ancestry(\n",
    "        samples=n_samples,\n",
    "        # num of recombinations per base per parent? \n",
    "        recombination_rate=1e-8,\n",
    "        sequence_length=5000,\n",
    "        population_size=10000,\n",
    "        record_full_arg=True).draw_text())"
   ]
  },
  {
   "cell_type": "code",
   "execution_count": 11,
   "id": "983ceb4f-14de-46c9-9c50-ded83207f548",
   "metadata": {},
   "outputs": [
    {
     "data": {
      "text/plain": [
       "(array([0.00819672, 0.        , 0.01639344]),\n",
       " array([  1.        ,  41.66666667,  82.33333333, 123.        ]),\n",
       " <BarContainer object of 3 artists>)"
      ]
     },
     "execution_count": 11,
     "metadata": {},
     "output_type": "execute_result"
    },
    {
     "data": {
      "image/png": "[encoded data removed]",
      "text/plain": [
       "<Figure size 432x288 with 1 Axes>"
      ]
     },
     "metadata": {
      "needs_background": "light"
     },
     "output_type": "display_data"
    }
   ],
   "source": [
    "plt.hist([1,123,121],density=True,bins=3)"
   ]
  },
  {
   "cell_type": "markdown",
   "id": "5763ac18-0e82-422d-876c-18e26489563d",
   "metadata": {},
   "source": [
    "# try to save data"
   ]
  },
  {
   "cell_type": "code",
   "execution_count": 5,
   "id": "22483be4-9dd3-4e16-a703-20572447dde9",
   "metadata": {},
   "outputs": [],
   "source": [
    "from datetime import datetime"
   ]
  },
  {
   "cell_type": "code",
   "execution_count": 13,
   "id": "90fc3421-a5ab-401b-88bc-091262ad23a9",
   "metadata": {},
   "outputs": [],
   "source": [
    "t_mrca_list=[1234,12,341,12,34,1324,13,41];\n",
    "with open(\"sim_\"+datetime.now().strftime(\"%H_%M_%S\")+\".txt\", 'a') as fp:\n",
    "    fp.write(str(t_mrca_list))"
   ]
  }
 ],
 "metadata": {
  "kernelspec": {
   "display_name": "Python 3 (ipykernel)",
   "language": "python",
   "name": "python3"
  },
  "language_info": {
   "codemirror_mode": {
    "name": "ipython",
    "version": 3
   },
   "file_extension": ".py",
   "mimetype": "text/x-python",
   "name": "python",
   "nbconvert_exporter": "python",
   "pygments_lexer": "ipython3",
   "version": "3.9.7"
  }
 },
 "nbformat": 4,
 "nbformat_minor": 5
}
