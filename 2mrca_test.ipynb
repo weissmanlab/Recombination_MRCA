{
 "cells": [
  {
   "cell_type": "code",
   "execution_count": 195,
   "id": "918c997c-d6d2-4a53-a16b-e764a1299d64",
   "metadata": {},
   "outputs": [],
   "source": [
    "import msprime\n",
    "from IPython.display import SVG, display\n",
    "import matplotlib.pyplot as plt"
   ]
  },
  {
   "cell_type": "code",
   "execution_count": 55,
   "id": "c2926e26-b51b-4d9a-aeb5-7d50f44a108f",
   "metadata": {},
   "outputs": [],
   "source": [
    "# samples\n",
    "sps=2"
   ]
  },
  {
   "cell_type": "code",
   "execution_count": 187,
   "id": "7dcd1b8c-365d-4e39-b4d3-d3e10efbebfd",
   "metadata": {},
   "outputs": [],
   "source": [
    "# Simulate an ancestral history for 3 diploid samples under the coalescent\n",
    "# with recombination on a 5kb region with human-like parameters.\n",
    "ts = msprime.sim_ancestry(\n",
    "    samples=sps,\n",
    "    recombination_rate=1e-8,\n",
    "    sequence_length=5000,\n",
    "    population_size=10000,\n",
    "    record_full_arg=True)"
   ]
  },
  {
   "cell_type": "code",
   "execution_count": 188,
   "id": "8c0822d0-ecd1-4d73-a2dd-335a990d48ce",
   "metadata": {},
   "outputs": [
    {
     "name": "stdout",
     "output_type": "stream",
     "text": [
      "74668.18┊         ┊  24      ┊  24      ┊  24      ┊  24      ┊          ┊         ┊  \n",
      "        ┊         ┊ ┏━┻━┓    ┊ ┏━┻━┓    ┊ ┏━┻━┓    ┊ ┏━┻━┓    ┊          ┊         ┊  \n",
      "52245.90┊         ┊ 23  ┃    ┊ 23  ┃    ┊ 23  ┃    ┊ 23  ┃    ┊  23      ┊         ┊  \n",
      "        ┊         ┊ ┃   ┃    ┊ ┃   ┃    ┊ ┃   ┃    ┊ ┃   ┃    ┊ ┏━┻━┓    ┊         ┊  \n",
      "49832.93┊         ┊ 22  ┃    ┊ 22  ┃    ┊ 22  ┃    ┊ 22  ┃    ┊ 22  ┃    ┊         ┊  \n",
      "        ┊         ┊ ┃   ┃    ┊ ┃   ┃    ┊ ┃   ┃    ┊ ┃   ┃    ┊ ┃   ┃    ┊         ┊  \n",
      "48464.83┊         ┊ 20  ┃    ┊ 21  ┃    ┊ 21  ┃    ┊ 21  ┃    ┊ 21  ┃    ┊         ┊  \n",
      "        ┊         ┊ ┃   ┃    ┊ ┃   ┃    ┊ ┃   ┃    ┊ ┃   ┃    ┊ ┃   ┃    ┊         ┊  \n",
      "47577.66┊         ┊ ┃  18    ┊ ┃  18    ┊ ┃  18    ┊ ┃  18    ┊ ┃  19    ┊         ┊  \n",
      "        ┊         ┊ ┃   ┃    ┊ ┃   ┃    ┊ ┃   ┃    ┊ ┃   ┃    ┊ ┃   ┃    ┊         ┊  \n",
      "45423.47┊         ┊ 17  ┃    ┊ 17  ┃    ┊ 17  ┃    ┊ 17  ┃    ┊ 17  ┃    ┊         ┊  \n",
      "        ┊         ┊ ┃   ┃    ┊ ┃   ┃    ┊ ┃   ┃    ┊ ┃   ┃    ┊ ┃   ┃    ┊         ┊  \n",
      "44546.56┊         ┊ 15  ┃    ┊ 15  ┃    ┊ 15  ┃    ┊ 16  ┃    ┊ 16  ┃    ┊         ┊  \n",
      "        ┊         ┊ ┃   ┃    ┊ ┃   ┃    ┊ ┃   ┃    ┊ ┃   ┃    ┊ ┃   ┃    ┊         ┊  \n",
      "40505.05┊         ┊ 14  ┃    ┊ 14  ┃    ┊ 14  ┃    ┊ 14  ┃    ┊ 14  ┃    ┊         ┊  \n",
      "        ┊         ┊ ┃   ┃    ┊ ┃   ┃    ┊ ┃   ┃    ┊ ┃   ┃    ┊ ┃   ┃    ┊         ┊  \n",
      "19485.16┊         ┊ 12  ┃    ┊ 12  ┃    ┊ 13  ┃    ┊ 13  ┃    ┊ 13  ┃    ┊         ┊  \n",
      "        ┊         ┊ ┃   ┃    ┊ ┃   ┃    ┊ ┃   ┃    ┊ ┃   ┃    ┊ ┃   ┃    ┊         ┊  \n",
      "19461.78┊  11     ┊ ┃  11    ┊ ┃  11    ┊ ┃  11    ┊ ┃  11    ┊ ┃  11    ┊         ┊  \n",
      "        ┊ ┏━┻━┓   ┊ ┃   ┃    ┊ ┃   ┃    ┊ ┃   ┃    ┊ ┃   ┃    ┊ ┃   ┃    ┊         ┊  \n",
      "13600.82┊ ┃   ┃   ┊ 10  ┃    ┊ 10  ┃    ┊ 10  ┃    ┊ 10  ┃    ┊ 10  ┃    ┊  10     ┊  \n",
      "        ┊ ┃   ┃   ┊ ┃   ┃    ┊ ┃   ┃    ┊ ┃   ┃    ┊ ┃   ┃    ┊ ┃   ┃    ┊ ┏━┻━┓   ┊  \n",
      "11930.80┊ 8   ┃   ┊ 9   ┃    ┊ 9   ┃    ┊ 9   ┃    ┊ 9   ┃    ┊ 9   ┃    ┊ 9   ┃   ┊  \n",
      "        ┊ ┃   ┃   ┊ ┃   ┃    ┊ ┃   ┃    ┊ ┃   ┃    ┊ ┃   ┃    ┊ ┃   ┃    ┊ ┃   ┃   ┊  \n",
      "5422.69 ┊ ┃   6   ┊ ┃   6    ┊ ┃   6    ┊ ┃   6    ┊ ┃   6    ┊ ┃   6    ┊ ┃   7   ┊  \n",
      "        ┊ ┃   ┃   ┊ ┃   ┃    ┊ ┃   ┃    ┊ ┃   ┃    ┊ ┃   ┃    ┊ ┃   ┃    ┊ ┃   ┃   ┊  \n",
      "1819.85 ┊ ┃   5   ┊ ┃   5    ┊ ┃   5    ┊ ┃   5    ┊ ┃   5    ┊ ┃   5    ┊ ┃   5   ┊  \n",
      "        ┊ ┃ ┏━┻┓  ┊ ┃  ┏┻━┓  ┊ ┃  ┏┻━┓  ┊ ┃  ┏┻━┓  ┊ ┃  ┏┻━┓  ┊ ┃  ┏┻━┓  ┊ ┃ ┏━┻┓  ┊  \n",
      "1273.78 ┊ ┃ ┃  4  ┊ ┃  ┃  4  ┊ ┃  ┃  4  ┊ ┃  ┃  4  ┊ ┃  ┃  4  ┊ ┃  ┃  4  ┊ ┃ ┃  4  ┊  \n",
      "        ┊ ┃ ┃ ┏┻┓ ┊ ┃  ┃ ┏┻┓ ┊ ┃  ┃ ┏┻┓ ┊ ┃  ┃ ┏┻┓ ┊ ┃  ┃ ┏┻┓ ┊ ┃  ┃ ┏┻┓ ┊ ┃ ┃ ┏┻┓ ┊  \n",
      "0.00    ┊ 0 1 2 3 ┊ 0  1 2 3 ┊ 0  1 2 3 ┊ 0  1 2 3 ┊ 0  1 2 3 ┊ 0  1 2 3 ┊ 0 1 2 3 ┊  \n",
      "        0        575       1004       1169       2809       3330       3505      5000 \n",
      "\n"
     ]
    }
   ],
   "source": [
    "# SVG(ts.draw_svg(y_axis=True))\n",
    "print(ts.draw_text())"
   ]
  },
  {
   "cell_type": "code",
   "execution_count": 189,
   "id": "526d1b3f-5021-42b5-82b1-2339ab2435b7",
   "metadata": {},
   "outputs": [
    {
     "name": "stdout",
     "output_type": "stream",
     "text": [
      "╔══╤═════╤════════╤═══════╤════════╗\n",
      "║id│flags│location│parents│metadata║\n",
      "╠══╪═════╪════════╪═══════╪════════╣\n",
      "║0 │    0│        │       │     b''║\n",
      "║1 │    0│        │       │     b''║\n",
      "╚══╧═════╧════════╧═══════╧════════╝\n",
      "\n",
      "╔══╤══════╤══════════╤══════════╤══════════════╤════════╗\n",
      "║id│flags │population│individual│time          │metadata║\n",
      "╠══╪══════╪══════════╪══════════╪══════════════╪════════╣\n",
      "║0 │     1│         0│         0│    0.00000000│     b''║\n",
      "║1 │     1│         0│         0│    0.00000000│     b''║\n",
      "║2 │     1│         0│         1│    0.00000000│     b''║\n",
      "║3 │     1│         0│         1│    0.00000000│     b''║\n",
      "║4 │     0│         0│        -1│ 1273.78370777│     b''║\n",
      "║5 │     0│         0│        -1│ 1819.85415542│     b''║\n",
      "║6 │131072│         0│        -1│ 5422.69335015│     b''║\n",
      "║7 │131072│         0│        -1│ 5422.69335015│     b''║\n",
      "║8 │131072│         0│        -1│11930.79566872│     b''║\n",
      "║9 │131072│         0│        -1│11930.79566872│     b''║\n",
      "║10│     0│         0│        -1│13600.81861177│     b''║\n",
      "║11│     0│         0│        -1│19461.77566743│     b''║\n",
      "║12│131072│         0│        -1│19485.16276579│     b''║\n",
      "║13│131072│         0│        -1│19485.16276579│     b''║\n",
      "║14│262144│         0│        -1│40505.05222543│     b''║\n",
      "║15│131072│         0│        -1│44546.56413579│     b''║\n",
      "║16│131072│         0│        -1│44546.56413579│     b''║\n",
      "║17│262144│         0│        -1│45423.47137676│     b''║\n",
      "║18│131072│         0│        -1│47577.65694742│     b''║\n",
      "║19│131072│         0│        -1│47577.65694742│     b''║\n",
      "║20│131072│         0│        -1│48464.82841079│     b''║\n",
      "║21│131072│         0│        -1│48464.82841079│     b''║\n",
      "║22│262144│         0│        -1│49832.92557094│     b''║\n",
      "║23│     0│         0│        -1│52245.90207984│     b''║\n",
      "║24│     0│         0│        -1│74668.18135493│     b''║\n",
      "╚══╧══════╧══════════╧══════════╧══════════════╧════════╝\n",
      "\n"
     ]
    }
   ],
   "source": [
    "print(ts.tables.individuals)\n",
    "print(ts.tables.nodes)"
   ]
  },
  {
   "cell_type": "code",
   "execution_count": 190,
   "id": "be3b5edc-edc2-4700-b772-51aefa5b04db",
   "metadata": {
    "tags": []
   },
   "outputs": [
    {
     "data": {
      "text/plain": [
       "0.0"
      ]
     },
     "execution_count": 190,
     "metadata": {},
     "output_type": "execute_result"
    }
   ],
   "source": [
    "ts.tables.nodes[0].time"
   ]
  },
  {
   "cell_type": "code",
   "execution_count": 191,
   "id": "12881cd0-cd55-4b3c-abf0-36d6f9154a3b",
   "metadata": {},
   "outputs": [
    {
     "name": "stdout",
     "output_type": "stream",
     "text": [
      "74668.18┊         ┊  24      ┊  24      ┊  24      ┊  24      ┊          ┊         ┊  \n",
      "        ┊         ┊ ┏━┻━┓    ┊ ┏━┻━┓    ┊ ┏━┻━┓    ┊ ┏━┻━┓    ┊          ┊         ┊  \n",
      "52245.90┊         ┊ 23  ┃    ┊ 23  ┃    ┊ 23  ┃    ┊ 23  ┃    ┊  23      ┊         ┊  \n",
      "        ┊         ┊ ┃   ┃    ┊ ┃   ┃    ┊ ┃   ┃    ┊ ┃   ┃    ┊ ┏━┻━┓    ┊         ┊  \n",
      "49832.93┊         ┊ 22  ┃    ┊ 22  ┃    ┊ 22  ┃    ┊ 22  ┃    ┊ 22  ┃    ┊         ┊  \n",
      "        ┊         ┊ ┃   ┃    ┊ ┃   ┃    ┊ ┃   ┃    ┊ ┃   ┃    ┊ ┃   ┃    ┊         ┊  \n",
      "48464.83┊         ┊ 20  ┃    ┊ 21  ┃    ┊ 21  ┃    ┊ 21  ┃    ┊ 21  ┃    ┊         ┊  \n",
      "        ┊         ┊ ┃   ┃    ┊ ┃   ┃    ┊ ┃   ┃    ┊ ┃   ┃    ┊ ┃   ┃    ┊         ┊  \n",
      "47577.66┊         ┊ ┃  18    ┊ ┃  18    ┊ ┃  18    ┊ ┃  18    ┊ ┃  19    ┊         ┊  \n",
      "        ┊         ┊ ┃   ┃    ┊ ┃   ┃    ┊ ┃   ┃    ┊ ┃   ┃    ┊ ┃   ┃    ┊         ┊  \n",
      "45423.47┊         ┊ 17  ┃    ┊ 17  ┃    ┊ 17  ┃    ┊ 17  ┃    ┊ 17  ┃    ┊         ┊  \n",
      "        ┊         ┊ ┃   ┃    ┊ ┃   ┃    ┊ ┃   ┃    ┊ ┃   ┃    ┊ ┃   ┃    ┊         ┊  \n",
      "44546.56┊         ┊ 15  ┃    ┊ 15  ┃    ┊ 15  ┃    ┊ 16  ┃    ┊ 16  ┃    ┊         ┊  \n",
      "        ┊         ┊ ┃   ┃    ┊ ┃   ┃    ┊ ┃   ┃    ┊ ┃   ┃    ┊ ┃   ┃    ┊         ┊  \n",
      "40505.05┊         ┊ 14  ┃    ┊ 14  ┃    ┊ 14  ┃    ┊ 14  ┃    ┊ 14  ┃    ┊         ┊  \n",
      "        ┊         ┊ ┃   ┃    ┊ ┃   ┃    ┊ ┃   ┃    ┊ ┃   ┃    ┊ ┃   ┃    ┊         ┊  \n",
      "19485.16┊         ┊ 12  ┃    ┊ 12  ┃    ┊ 13  ┃    ┊ 13  ┃    ┊ 13  ┃    ┊         ┊  \n",
      "        ┊         ┊ ┃   ┃    ┊ ┃   ┃    ┊ ┃   ┃    ┊ ┃   ┃    ┊ ┃   ┃    ┊         ┊  \n",
      "19461.78┊  11     ┊ ┃  11    ┊ ┃  11    ┊ ┃  11    ┊ ┃  11    ┊ ┃  11    ┊         ┊  \n",
      "        ┊ ┏━┻━┓   ┊ ┃   ┃    ┊ ┃   ┃    ┊ ┃   ┃    ┊ ┃   ┃    ┊ ┃   ┃    ┊         ┊  \n",
      "13600.82┊ ┃   ┃   ┊ 10  ┃    ┊ 10  ┃    ┊ 10  ┃    ┊ 10  ┃    ┊ 10  ┃    ┊  10     ┊  \n",
      "        ┊ ┃   ┃   ┊ ┃   ┃    ┊ ┃   ┃    ┊ ┃   ┃    ┊ ┃   ┃    ┊ ┃   ┃    ┊ ┏━┻━┓   ┊  \n",
      "11930.80┊ 8   ┃   ┊ 9   ┃    ┊ 9   ┃    ┊ 9   ┃    ┊ 9   ┃    ┊ 9   ┃    ┊ 9   ┃   ┊  \n",
      "        ┊ ┃   ┃   ┊ ┃   ┃    ┊ ┃   ┃    ┊ ┃   ┃    ┊ ┃   ┃    ┊ ┃   ┃    ┊ ┃   ┃   ┊  \n",
      "5422.69 ┊ ┃   6   ┊ ┃   6    ┊ ┃   6    ┊ ┃   6    ┊ ┃   6    ┊ ┃   6    ┊ ┃   7   ┊  \n",
      "        ┊ ┃   ┃   ┊ ┃   ┃    ┊ ┃   ┃    ┊ ┃   ┃    ┊ ┃   ┃    ┊ ┃   ┃    ┊ ┃   ┃   ┊  \n",
      "1819.85 ┊ ┃   5   ┊ ┃   5    ┊ ┃   5    ┊ ┃   5    ┊ ┃   5    ┊ ┃   5    ┊ ┃   5   ┊  \n",
      "        ┊ ┃ ┏━┻┓  ┊ ┃  ┏┻━┓  ┊ ┃  ┏┻━┓  ┊ ┃  ┏┻━┓  ┊ ┃  ┏┻━┓  ┊ ┃  ┏┻━┓  ┊ ┃ ┏━┻┓  ┊  \n",
      "1273.78 ┊ ┃ ┃  4  ┊ ┃  ┃  4  ┊ ┃  ┃  4  ┊ ┃  ┃  4  ┊ ┃  ┃  4  ┊ ┃  ┃  4  ┊ ┃ ┃  4  ┊  \n",
      "        ┊ ┃ ┃ ┏┻┓ ┊ ┃  ┃ ┏┻┓ ┊ ┃  ┃ ┏┻┓ ┊ ┃  ┃ ┏┻┓ ┊ ┃  ┃ ┏┻┓ ┊ ┃  ┃ ┏┻┓ ┊ ┃ ┃ ┏┻┓ ┊  \n",
      "0.00    ┊ 0 1 2 3 ┊ 0  1 2 3 ┊ 0  1 2 3 ┊ 0  1 2 3 ┊ 0  1 2 3 ┊ 0  1 2 3 ┊ 0 1 2 3 ┊  \n",
      "        0        575       1004       1169       2809       3330       3505      5000 \n",
      "\n"
     ]
    }
   ],
   "source": [
    "table = ts.draw_text()\n",
    "print(table)"
   ]
  },
  {
   "cell_type": "code",
   "execution_count": 192,
   "id": "2a8266fc-9167-4592-9ec1-012a31b9dde1",
   "metadata": {},
   "outputs": [
    {
     "name": "stdout",
     "output_type": "stream",
     "text": [
      "\n",
      " 0005      5053       0333       9082       9611       4001       575        0        \n",
      "  ┊ 3 2 1 0 ┊ 3 2 1  0 ┊ 3 2 1  0 ┊ 3 2 1  0 ┊ 3 2 1  0 ┊ 3 2 1  0 ┊ 3 2 1 0 ┊    00.0\n",
      "  ┊ ┓┻┏ ┃ ┃ ┊ ┓┻┏ ┃  ┃ ┊ ┓┻┏ ┃  ┃ ┊ ┓┻┏ ┃  ┃ ┊ ┓┻┏ ┃  ┃ ┊ ┓┻┏ ┃  ┃ ┊ ┓┻┏ ┃ ┃ ┊        \n",
      "  ┊  4  ┃ ┃ ┊  4  ┃  ┃ ┊  4  ┃  ┃ ┊  4  ┃  ┃ ┊  4  ┃  ┃ ┊  4  ┃  ┃ ┊  4  ┃ ┃ ┊ 87.3721\n",
      "  ┊  ┓┻━┏ ┃ ┊  ┓━┻┏  ┃ ┊  ┓━┻┏  ┃ ┊  ┓━┻┏  ┃ ┊  ┓━┻┏  ┃ ┊  ┓━┻┏  ┃ ┊  ┓┻━┏ ┃ ┊        \n",
      "  ┊   5   ┃ ┊    5   ┃ ┊    5   ┃ ┊    5   ┃ ┊    5   ┃ ┊    5   ┃ ┊   5   ┃ ┊ 58.9181\n",
      "  ┊   ┃   ┃ ┊    ┃   ┃ ┊    ┃   ┃ ┊    ┃   ┃ ┊    ┃   ┃ ┊    ┃   ┃ ┊   ┃   ┃ ┊        \n",
      "  ┊   7   ┃ ┊    6   ┃ ┊    6   ┃ ┊    6   ┃ ┊    6   ┃ ┊    6   ┃ ┊   6   ┃ ┊ 96.2245\n",
      "  ┊   ┃   ┃ ┊    ┃   ┃ ┊    ┃   ┃ ┊    ┃   ┃ ┊    ┃   ┃ ┊    ┃   ┃ ┊   ┃   ┃ ┊        \n",
      "  ┊   ┃   9 ┊    ┃   9 ┊    ┃   9 ┊    ┃   9 ┊    ┃   9 ┊    ┃   9 ┊   ┃   8 ┊08.03911\n",
      "  ┊   ┓━┻━┏ ┊    ┃   ┃ ┊    ┃   ┃ ┊    ┃   ┃ ┊    ┃   ┃ ┊    ┃   ┃ ┊   ┃   ┃ ┊        \n",
      "  ┊     01  ┊    ┃  01 ┊    ┃  01 ┊    ┃  01 ┊    ┃  01 ┊    ┃  01 ┊   ┃   ┃ ┊28.00631\n",
      "  ┊         ┊    ┃   ┃ ┊    ┃   ┃ ┊    ┃   ┃ ┊    ┃   ┃ ┊    ┃   ┃ ┊   ┓━┻━┏ ┊        \n",
      "  ┊         ┊    11  ┃ ┊    11  ┃ ┊    11  ┃ ┊    11  ┃ ┊    11  ┃ ┊     11  ┊87.16491\n",
      "  ┊         ┊    ┃   ┃ ┊    ┃   ┃ ┊    ┃   ┃ ┊    ┃   ┃ ┊    ┃   ┃ ┊         ┊        \n",
      "  ┊         ┊    ┃  31 ┊    ┃  31 ┊    ┃  31 ┊    ┃  21 ┊    ┃  21 ┊         ┊61.58491\n",
      "  ┊         ┊    ┃   ┃ ┊    ┃   ┃ ┊    ┃   ┃ ┊    ┃   ┃ ┊    ┃   ┃ ┊         ┊        \n",
      "  ┊         ┊    ┃  41 ┊    ┃  41 ┊    ┃  41 ┊    ┃  41 ┊    ┃  41 ┊         ┊50.50504\n",
      "  ┊         ┊    ┃   ┃ ┊    ┃   ┃ ┊    ┃   ┃ ┊    ┃   ┃ ┊    ┃   ┃ ┊         ┊        \n",
      "  ┊         ┊    ┃  61 ┊    ┃  61 ┊    ┃  51 ┊    ┃  51 ┊    ┃  51 ┊         ┊65.64544\n",
      "  ┊         ┊    ┃   ┃ ┊    ┃   ┃ ┊    ┃   ┃ ┊    ┃   ┃ ┊    ┃   ┃ ┊         ┊        \n",
      "  ┊         ┊    ┃  71 ┊    ┃  71 ┊    ┃  71 ┊    ┃  71 ┊    ┃  71 ┊         ┊74.32454\n",
      "  ┊         ┊    ┃   ┃ ┊    ┃   ┃ ┊    ┃   ┃ ┊    ┃   ┃ ┊    ┃   ┃ ┊         ┊        \n",
      "  ┊         ┊    91  ┃ ┊    81  ┃ ┊    81  ┃ ┊    81  ┃ ┊    81  ┃ ┊         ┊66.77574\n",
      "  ┊         ┊    ┃   ┃ ┊    ┃   ┃ ┊    ┃   ┃ ┊    ┃   ┃ ┊    ┃   ┃ ┊         ┊        \n",
      "  ┊         ┊    ┃  12 ┊    ┃  12 ┊    ┃  12 ┊    ┃  12 ┊    ┃  02 ┊         ┊38.46484\n",
      "  ┊         ┊    ┃   ┃ ┊    ┃   ┃ ┊    ┃   ┃ ┊    ┃   ┃ ┊    ┃   ┃ ┊         ┊        \n",
      "  ┊         ┊    ┃  22 ┊    ┃  22 ┊    ┃  22 ┊    ┃  22 ┊    ┃  22 ┊         ┊39.23894\n",
      "  ┊         ┊    ┓━┻━┏ ┊    ┃   ┃ ┊    ┃   ┃ ┊    ┃   ┃ ┊    ┃   ┃ ┊         ┊        \n",
      "  ┊         ┊      32  ┊    ┃  32 ┊    ┃  32 ┊    ┃  32 ┊    ┃  32 ┊         ┊09.54225\n",
      "  ┊         ┊          ┊    ┓━┻━┏ ┊    ┓━┻━┏ ┊    ┓━┻━┏ ┊    ┓━┻━┏ ┊         ┊        \n",
      "  ┊         ┊          ┊      42  ┊      42  ┊      42  ┊      42  ┊         ┊81.86647\n"
     ]
    }
   ],
   "source": [
    "table_reversed = ts.draw_text()[::-1]\n",
    "print(table_reversed)"
   ]
  },
  {
   "cell_type": "code",
   "execution_count": 193,
   "id": "8e524300-8779-48a4-ba9d-dd38c04908eb",
   "metadata": {},
   "outputs": [],
   "source": [
    "def t_mrca(foo):\n",
    "    # reverse table\n",
    "    bar = foo[::-1]\n",
    "    # number of symbols per line\n",
    "    baz = len(bar)//bar.count(\"\\n\")\n",
    "    # index of the first blank,\n",
    "    # the blank's length may vary,\n",
    "    # and a single tree doesn't have a blank\n",
    "    tiz = len(bar)\n",
    "    for idx in range(4*sps+1,6*sps+1):\n",
    "        if bar.count(\"┊\"+idx*\" \"+\"┊\")!=0:\n",
    "            if bar.index(\"┊\"+idx*\" \"+\"┊\")<tiz:\n",
    "                tiz = bar.index(\"┊\"+idx*\" \"+\"┊\")\n",
    "    # the time before the blank \n",
    "    tud = tiz//baz-1\n",
    "    tus = bar.index(\" 0 \")+2\n",
    "    qux = bar[baz*tud+tus:baz*(tud+1)]\n",
    "    wib = float(qux[::-1])\n",
    "    return(wib)"
   ]
  },
  {
   "cell_type": "code",
   "execution_count": 194,
   "id": "c0379c74-7497-43e5-ada0-b21009604db7",
   "metadata": {},
   "outputs": [
    {
     "data": {
      "text/plain": [
       "13600.82"
      ]
     },
     "execution_count": 194,
     "metadata": {},
     "output_type": "execute_result"
    }
   ],
   "source": [
    "t_mrca(table)"
   ]
  },
  {
   "cell_type": "code",
   "execution_count": 200,
   "id": "a8136624-47c8-46ee-8477-4eff4fda944f",
   "metadata": {},
   "outputs": [
    {
     "data": {
      "image/png": "[encoded data removed]",
      "text/plain": [
       "<Figure size 432x288 with 1 Axes>"
      ]
     },
     "metadata": {
      "needs_background": "light"
     },
     "output_type": "display_data"
    }
   ],
   "source": [
    "x = [123, 1234,134,1324,134,12, 1234,123,4,1324, 18]\n",
    "plt.hist(x, density=False, bins=30)\n",
    "plt.ylabel('Count')\n",
    "plt.xlabel('Data');"
   ]
  },
  {
   "cell_type": "code",
   "execution_count": null,
   "id": "a419ea68-4b2c-417d-9c76-2853455ef8b6",
   "metadata": {},
   "outputs": [],
   "source": []
  }
 ],
 "metadata": {
  "kernelspec": {
   "display_name": "Python 3 (ipykernel)",
   "language": "python",
   "name": "python3"
  },
  "language_info": {
   "codemirror_mode": {
    "name": "ipython",
    "version": 3
   },
   "file_extension": ".py",
   "mimetype": "text/x-python",
   "name": "python",
   "nbconvert_exporter": "python",
   "pygments_lexer": "ipython3",
   "version": "3.9.7"
  }
 },
 "nbformat": 4,
 "nbformat_minor": 5
}
