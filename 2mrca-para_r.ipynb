{
 "cells": [
  {
   "cell_type": "code",
   "execution_count": 2,
   "id": "39f691eb-f612-4d3d-8d00-ebcf0b6366a6",
   "metadata": {},
   "outputs": [],
   "source": [
    "import msprime\n",
    "import matplotlib.pyplot as plt\n",
    "from sympy import symbols, exp\n",
    "from sympy.plotting import plot\n",
    "# from datetime import datetime"
   ]
  },
  {
   "cell_type": "code",
   "execution_count": 3,
   "id": "b07abe3a-6fd6-431b-a08f-bc9ea8877f10",
   "metadata": {},
   "outputs": [],
   "source": [
    "# define the function that finds the least coalescent time\n",
    "def t_mrca_api(tree_s):\n",
    "    t_ca_list = []\n",
    "    for tree in tree_s.trees():\n",
    "        t_ca_list.append(tree_s.tables.nodes[tree.root].time)\n",
    "    return(min(t_ca_list))"
   ]
  },
  {
   "cell_type": "markdown",
   "id": "3eef4759-9f49-45b5-beba-3cd3a84cb08b",
   "metadata": {},
   "source": [
    "# run the simulation with different parameters but same S"
   ]
  },
  {
   "cell_type": "code",
   "execution_count": 1,
   "id": "3b01fb9c-711e-4dde-a84e-fbdc879d232f",
   "metadata": {},
   "outputs": [],
   "source": [
    "# set parameters\n",
    "# num of trials\n",
    "num=5000\n",
    "n_samples=2\n",
    "\n",
    "com_para=20\n",
    "s_len_1=5000\n",
    "# R = 1e-3/gen\n",
    "pop_size_1=20000\n",
    "# \\pi LN = 10/gen (~1/gen)\n",
    "# num of recombinations per base per gen\n",
    "# pi = 1e-7/gen/base\n",
    "pi_1=com_para/(2*s_len_1*pop_size_1)\n",
    "\n",
    "s_len_2=5000\n",
    "# R = 1e-4/gen\n",
    "pop_size_2=200000\n",
    "# \\pi LN = 10/gen (~1/gen)\n",
    "pi_2=com_para/(2*s_len_2*pop_size_2)\n",
    "# pi = 1e-8/gen/base\n",
    "\n",
    "s_len_3=2500\n",
    "# R = 2.5e-4/gen\n",
    "pop_size_3=80000\n",
    "# \\pi LN = 10/gen (~1/gen)\n",
    "pi_3=com_para/(2*s_len_3*pop_size_3)\n",
    "# pi = 5e-8/gen/base"
   ]
  },
  {
   "cell_type": "code",
   "execution_count": 4,
   "id": "0aa4b8b0-589d-4f53-b91f-2fa9e1fb9dbb",
   "metadata": {},
   "outputs": [],
   "source": [
    "# run the simulation num times\n",
    "t_mrca_list_1 = []\n",
    "for idxx in range(num):\n",
    "    tree_s_sim = msprime.sim_ancestry(\n",
    "        samples=n_samples/2,\n",
    "        recombination_rate=pi_1,\n",
    "        sequence_length=s_len_1,\n",
    "        population_size=pop_size_1/2,\n",
    "        record_full_arg=True)\n",
    "    # t_mrca_list.append(t_mrca_text(tree_s_sim.draw_text()))\n",
    "    t_mrca_list_1.append(t_mrca_api(tree_s_sim))"
   ]
  },
  {
   "cell_type": "code",
   "execution_count": 5,
   "id": "d59453ab-6805-4199-b1d0-a1c29d2ddb49",
   "metadata": {},
   "outputs": [],
   "source": [
    "# run the simulation num times\n",
    "t_mrca_list_2 = []\n",
    "for idxx in range(num):\n",
    "    tree_s_sim = msprime.sim_ancestry(\n",
    "        samples=n_samples/2,\n",
    "        recombination_rate=pi_2,\n",
    "        sequence_length=s_len_2,\n",
    "        population_size=pop_size_2/2,\n",
    "        record_full_arg=True)\n",
    "    # t_mrca_list.append(t_mrca_text(tree_s_sim.draw_text()))\n",
    "    t_mrca_list_2.append(t_mrca_api(tree_s_sim))"
   ]
  },
  {
   "cell_type": "code",
   "execution_count": 6,
   "id": "68cd62ab-fae5-492a-b36a-f9ca3f69657c",
   "metadata": {},
   "outputs": [],
   "source": [
    "# run the simulation num times\n",
    "t_mrca_list_3 = []\n",
    "for idxx in range(num):\n",
    "    tree_s_sim = msprime.sim_ancestry(\n",
    "        samples=n_samples/2,\n",
    "        recombination_rate=pi_3,\n",
    "        sequence_length=s_len_3,\n",
    "        population_size=pop_size_3/2,\n",
    "        record_full_arg=True)\n",
    "    # t_mrca_list.append(t_mrca_text(tree_s_sim.draw_text()))\n",
    "    t_mrca_list_3.append(t_mrca_api(tree_s_sim))"
   ]
  },
  {
   "cell_type": "markdown",
   "id": "d518ada2-a3ea-4074-b801-84a6b6ff3fce",
   "metadata": {
    "tags": []
   },
   "source": [
    "# remeasure time"
   ]
  },
  {
   "cell_type": "code",
   "execution_count": 7,
   "id": "1b38e679-2385-4f95-a508-4d0e7f0e272b",
   "metadata": {
    "tags": []
   },
   "outputs": [],
   "source": [
    "t_mrca_list_1_rn = [t_mrca_list_1[idx]/pop_size_1 for idx in range(num)]\n",
    "t_mrca_list_2_rn = [t_mrca_list_2[idx]/pop_size_2 for idx in range(num)]\n",
    "t_mrca_list_3_rn = [t_mrca_list_3[idx]/pop_size_3 for idx in range(num)]"
   ]
  },
  {
   "cell_type": "markdown",
   "id": "125acb6a-3310-4bb1-af8d-9e8bc1d29b44",
   "metadata": {
    "tags": []
   },
   "source": [
    "# plot all histograms"
   ]
  },
  {
   "cell_type": "code",
   "execution_count": 8,
   "id": "55eca5d7-3afa-4450-9f23-a02103022c86",
   "metadata": {},
   "outputs": [
    {
     "data": {
      "text/plain": [
       "Text(0.5, 0, 'Fastest Coalescent Time (generations/N)')"
      ]
     },
     "execution_count": 8,
     "metadata": {},
     "output_type": "execute_result"
    },
    {
     "data": {
      "image/png": "[encoded data removed]",
      "text/plain": [
       "<Figure size 432x288 with 1 Axes>"
      ]
     },
     "metadata": {
      "needs_background": "light"
     },
     "output_type": "display_data"
    }
   ],
   "source": [
    "# plot the distribution\n",
    "plt.hist(t_mrca_list_1_rn, density=True, bins=200,range=(0,max(t_mrca_list_1_rn)))\n",
    "plt.hist(t_mrca_list_2_rn, density=True, bins=200,range=(0,max(t_mrca_list_2_rn)))\n",
    "plt.hist(t_mrca_list_3_rn, density=True, bins=200,range=(0,max(t_mrca_list_3_rn)))\n",
    "plt.ylabel(\"Probability Density of Coalesence(N/generations)\")\n",
    "plt.xlabel(\"Fastest Coalescent Time (generations/N)\")"
   ]
  },
  {
   "cell_type": "code",
   "execution_count": 9,
   "id": "35b23e0b-ad01-4ca6-b814-6cfdc8c67274",
   "metadata": {},
   "outputs": [
    {
     "data": {
      "text/plain": [
       "Text(0.5, 0, 'Fastest Coalescent Time (generations/N)')"
      ]
     },
     "execution_count": 9,
     "metadata": {},
     "output_type": "execute_result"
    },
    {
     "data": {
      "image/png": "[encoded data removed]",
      "text/plain": [
       "<Figure size 432x288 with 1 Axes>"
      ]
     },
     "metadata": {
      "needs_background": "light"
     },
     "output_type": "display_data"
    }
   ],
   "source": [
    "# plot the distribution\n",
    "plt.hist(t_mrca_list_1_rn, density=True, bins=200,range=(0,max(t_mrca_list_1_rn)))\n",
    "plt.ylabel(\"Probability Density of Coalesence(N/generations)\")\n",
    "plt.xlabel(\"Fastest Coalescent Time (generations/N)\")"
   ]
  },
  {
   "cell_type": "code",
   "execution_count": 10,
   "id": "e462c85f-581e-442e-ac05-62a9285dbab2",
   "metadata": {},
   "outputs": [
    {
     "data": {
      "text/plain": [
       "Text(0.5, 0, 'Fastest Coalescent Time (generations/N)')"
      ]
     },
     "execution_count": 10,
     "metadata": {},
     "output_type": "execute_result"
    },
    {
     "data": {
      "image/png": "[encoded data removed]",
      "text/plain": [
       "<Figure size 432x288 with 1 Axes>"
      ]
     },
     "metadata": {
      "needs_background": "light"
     },
     "output_type": "display_data"
    }
   ],
   "source": [
    "# plot the distribution\n",
    "plt.hist(t_mrca_list_2_rn, density=True, bins=200,range=(0,max(t_mrca_list_2_rn)))\n",
    "plt.ylabel(\"Probability Density of Coalesence(N/generations)\")\n",
    "plt.xlabel(\"Fastest Coalescent Time (generations/N)\")"
   ]
  },
  {
   "cell_type": "code",
   "execution_count": 11,
   "id": "77b78971-9cb2-48f5-af0c-5ad3cfbbae44",
   "metadata": {},
   "outputs": [
    {
     "data": {
      "text/plain": [
       "Text(0.5, 0, 'Fastest Coalescent Time (generations/N)')"
      ]
     },
     "execution_count": 11,
     "metadata": {},
     "output_type": "execute_result"
    },
    {
     "data": {
      "image/png": "[encoded data removed]",
      "text/plain": [
       "<Figure size 432x288 with 1 Axes>"
      ]
     },
     "metadata": {
      "needs_background": "light"
     },
     "output_type": "display_data"
    }
   ],
   "source": [
    "# plot the distribution\n",
    "plt.hist(t_mrca_list_3_rn, density=True, bins=200,range=(0,max(t_mrca_list_3_rn)))\n",
    "plt.ylabel(\"Probability Density of Coalesence(N/generations)\")\n",
    "plt.xlabel(\"Fastest Coalescent Time (generations/N)\")"
   ]
  },
  {
   "cell_type": "code",
   "execution_count": null,
   "id": "4390a2ab-b559-43cd-bc6d-7d86871ffd4d",
   "metadata": {},
   "outputs": [],
   "source": []
  }
 ],
 "metadata": {
  "kernelspec": {
   "display_name": "Python 3 (ipykernel)",
   "language": "python",
   "name": "python3"
  },
  "language_info": {
   "codemirror_mode": {
    "name": "ipython",
    "version": 3
   },
   "file_extension": ".py",
   "mimetype": "text/x-python",
   "name": "python",
   "nbconvert_exporter": "python",
   "pygments_lexer": "ipython3",
   "version": "3.9.7"
  }
 },
 "nbformat": 4,
 "nbformat_minor": 5
}
